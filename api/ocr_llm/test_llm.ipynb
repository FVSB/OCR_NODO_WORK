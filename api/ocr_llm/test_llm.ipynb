{
 "cells": [
  {
   "cell_type": "code",
   "execution_count": 1,
   "id": "da2df050",
   "metadata": {},
   "outputs": [
    {
     "data": {
      "text/plain": [
       "True"
      ]
     },
     "execution_count": 1,
     "metadata": {},
     "output_type": "execute_result"
    }
   ],
   "source": [
    "import os\n",
    "from dotenv import load_dotenv\n",
    "\n",
    "# 1. Carga las variables de entorno desde .env\n",
    "load_dotenv()"
   ]
  },
  {
   "cell_type": "code",
   "execution_count": 2,
   "id": "fcdab080",
   "metadata": {},
   "outputs": [
    {
     "ename": "ImportError",
     "evalue": "cannot import name 'from_json' from 'jiter' (unknown location)",
     "output_type": "error",
     "traceback": [
      "\u001b[31m---------------------------------------------------------------------------\u001b[39m",
      "\u001b[31mImportError\u001b[39m                               Traceback (most recent call last)",
      "\u001b[36mCell\u001b[39m\u001b[36m \u001b[39m\u001b[32mIn[2]\u001b[39m\u001b[32m, line 1\u001b[39m\n\u001b[32m----> \u001b[39m\u001b[32m1\u001b[39m \u001b[38;5;28;01mfrom\u001b[39;00m\u001b[38;5;250m \u001b[39m\u001b[34;01mllm_structure\u001b[39;00m\u001b[38;5;250m \u001b[39m\u001b[38;5;28;01mimport\u001b[39;00m DocumentChat, DocumentChatOllama\n",
      "\u001b[36mFile \u001b[39m\u001b[32md:\\GitHub\\OCR_NODO_WORK\\api\\ocr_llm\\llm_structure.py:3\u001b[39m\n\u001b[32m      1\u001b[39m \u001b[38;5;28;01mfrom\u001b[39;00m\u001b[38;5;250m \u001b[39m\u001b[34;01mmarkitdown\u001b[39;00m\u001b[38;5;250m \u001b[39m\u001b[38;5;28;01mimport\u001b[39;00m MarkItDown\n\u001b[32m      2\u001b[39m \u001b[38;5;28;01mimport\u001b[39;00m\u001b[38;5;250m \u001b[39m\u001b[34;01mopenai\u001b[39;00m\n\u001b[32m----> \u001b[39m\u001b[32m3\u001b[39m \u001b[38;5;28;01mimport\u001b[39;00m\u001b[38;5;250m \u001b[39m\u001b[34;01minstructor\u001b[39;00m\n\u001b[32m      4\u001b[39m \u001b[38;5;28;01mfrom\u001b[39;00m\u001b[38;5;250m \u001b[39m\u001b[34;01mpydantic\u001b[39;00m\u001b[38;5;250m \u001b[39m\u001b[38;5;28;01mimport\u001b[39;00m BaseModel\n\u001b[32m      5\u001b[39m \u001b[38;5;28;01mfrom\u001b[39;00m\u001b[38;5;250m \u001b[39m\u001b[34;01mtyping\u001b[39;00m\u001b[38;5;250m \u001b[39m\u001b[38;5;28;01mimport\u001b[39;00m Type, TypeVar, List\n",
      "\u001b[36mFile \u001b[39m\u001b[32md:\\GitHub\\OCR_NODO_WORK\\.venv\\Lib\\site-packages\\instructor\\__init__.py:4\u001b[39m\n\u001b[32m      1\u001b[39m \u001b[38;5;28;01mimport\u001b[39;00m\u001b[38;5;250m \u001b[39m\u001b[34;01mimportlib\u001b[39;00m\u001b[34;01m.\u001b[39;00m\u001b[34;01mutil\u001b[39;00m\n\u001b[32m      3\u001b[39m \u001b[38;5;28;01mfrom\u001b[39;00m\u001b[38;5;250m \u001b[39m\u001b[34;01m.\u001b[39;00m\u001b[34;01mmode\u001b[39;00m\u001b[38;5;250m \u001b[39m\u001b[38;5;28;01mimport\u001b[39;00m Mode\n\u001b[32m----> \u001b[39m\u001b[32m4\u001b[39m \u001b[38;5;28;01mfrom\u001b[39;00m\u001b[38;5;250m \u001b[39m\u001b[34;01m.\u001b[39;00m\u001b[34;01mprocess_response\u001b[39;00m\u001b[38;5;250m \u001b[39m\u001b[38;5;28;01mimport\u001b[39;00m handle_response_model\n\u001b[32m      5\u001b[39m \u001b[38;5;28;01mfrom\u001b[39;00m\u001b[38;5;250m \u001b[39m\u001b[34;01m.\u001b[39;00m\u001b[34;01mdistil\u001b[39;00m\u001b[38;5;250m \u001b[39m\u001b[38;5;28;01mimport\u001b[39;00m FinetuneFormat, Instructions\n\u001b[32m      6\u001b[39m \u001b[38;5;28;01mfrom\u001b[39;00m\u001b[38;5;250m \u001b[39m\u001b[34;01m.\u001b[39;00m\u001b[34;01mmultimodal\u001b[39;00m\u001b[38;5;250m \u001b[39m\u001b[38;5;28;01mimport\u001b[39;00m Image, Audio\n",
      "\u001b[36mFile \u001b[39m\u001b[32md:\\GitHub\\OCR_NODO_WORK\\.venv\\Lib\\site-packages\\instructor\\process_response.py:19\u001b[39m\n\u001b[32m     17\u001b[39m \u001b[38;5;66;03m# from instructor.client_bedrock import handle_bedrock_json\u001b[39;00m\n\u001b[32m     18\u001b[39m \u001b[38;5;28;01mfrom\u001b[39;00m\u001b[38;5;250m \u001b[39m\u001b[34;01minstructor\u001b[39;00m\u001b[34;01m.\u001b[39;00m\u001b[34;01mmode\u001b[39;00m\u001b[38;5;250m \u001b[39m\u001b[38;5;28;01mimport\u001b[39;00m Mode\n\u001b[32m---> \u001b[39m\u001b[32m19\u001b[39m \u001b[38;5;28;01mfrom\u001b[39;00m\u001b[38;5;250m \u001b[39m\u001b[34;01minstructor\u001b[39;00m\u001b[34;01m.\u001b[39;00m\u001b[34;01mdsl\u001b[39;00m\u001b[34;01m.\u001b[39;00m\u001b[34;01miterable\u001b[39;00m\u001b[38;5;250m \u001b[39m\u001b[38;5;28;01mimport\u001b[39;00m IterableBase, IterableModel\n\u001b[32m     20\u001b[39m \u001b[38;5;28;01mfrom\u001b[39;00m\u001b[38;5;250m \u001b[39m\u001b[34;01minstructor\u001b[39;00m\u001b[34;01m.\u001b[39;00m\u001b[34;01mdsl\u001b[39;00m\u001b[34;01m.\u001b[39;00m\u001b[34;01mparallel\u001b[39;00m\u001b[38;5;250m \u001b[39m\u001b[38;5;28;01mimport\u001b[39;00m (\n\u001b[32m     21\u001b[39m     ParallelBase,\n\u001b[32m     22\u001b[39m     ParallelModel,\n\u001b[32m   (...)\u001b[39m\u001b[32m     26\u001b[39m     VertexAIParallelModel,\n\u001b[32m     27\u001b[39m )\n\u001b[32m     28\u001b[39m \u001b[38;5;28;01mfrom\u001b[39;00m\u001b[38;5;250m \u001b[39m\u001b[34;01minstructor\u001b[39;00m\u001b[34;01m.\u001b[39;00m\u001b[34;01mdsl\u001b[39;00m\u001b[34;01m.\u001b[39;00m\u001b[34;01mpartial\u001b[39;00m\u001b[38;5;250m \u001b[39m\u001b[38;5;28;01mimport\u001b[39;00m PartialBase\n",
      "\u001b[36mFile \u001b[39m\u001b[32md:\\GitHub\\OCR_NODO_WORK\\.venv\\Lib\\site-packages\\instructor\\dsl\\__init__.py:3\u001b[39m\n\u001b[32m      1\u001b[39m \u001b[38;5;28;01mfrom\u001b[39;00m\u001b[38;5;250m \u001b[39m\u001b[34;01m.\u001b[39;00m\u001b[34;01miterable\u001b[39;00m\u001b[38;5;250m \u001b[39m\u001b[38;5;28;01mimport\u001b[39;00m IterableModel\n\u001b[32m      2\u001b[39m \u001b[38;5;28;01mfrom\u001b[39;00m\u001b[38;5;250m \u001b[39m\u001b[34;01m.\u001b[39;00m\u001b[34;01mmaybe\u001b[39;00m\u001b[38;5;250m \u001b[39m\u001b[38;5;28;01mimport\u001b[39;00m Maybe\n\u001b[32m----> \u001b[39m\u001b[32m3\u001b[39m \u001b[38;5;28;01mfrom\u001b[39;00m\u001b[38;5;250m \u001b[39m\u001b[34;01m.\u001b[39;00m\u001b[34;01mpartial\u001b[39;00m\u001b[38;5;250m \u001b[39m\u001b[38;5;28;01mimport\u001b[39;00m Partial\n\u001b[32m      4\u001b[39m \u001b[38;5;28;01mfrom\u001b[39;00m\u001b[38;5;250m \u001b[39m\u001b[34;01m.\u001b[39;00m\u001b[34;01mvalidators\u001b[39;00m\u001b[38;5;250m \u001b[39m\u001b[38;5;28;01mimport\u001b[39;00m llm_validator, openai_moderation\n\u001b[32m      5\u001b[39m \u001b[38;5;28;01mfrom\u001b[39;00m\u001b[38;5;250m \u001b[39m\u001b[34;01m.\u001b[39;00m\u001b[34;01mcitation\u001b[39;00m\u001b[38;5;250m \u001b[39m\u001b[38;5;28;01mimport\u001b[39;00m CitationMixin\n",
      "\u001b[36mFile \u001b[39m\u001b[32md:\\GitHub\\OCR_NODO_WORK\\.venv\\Lib\\site-packages\\instructor\\dsl\\partial.py:29\u001b[39m\n\u001b[32m     17\u001b[39m \u001b[38;5;28;01mfrom\u001b[39;00m\u001b[38;5;250m \u001b[39m\u001b[34;01mfunctools\u001b[39;00m\u001b[38;5;250m \u001b[39m\u001b[38;5;28;01mimport\u001b[39;00m cache\n\u001b[32m     18\u001b[39m \u001b[38;5;28;01mfrom\u001b[39;00m\u001b[38;5;250m \u001b[39m\u001b[34;01mtyping\u001b[39;00m\u001b[38;5;250m \u001b[39m\u001b[38;5;28;01mimport\u001b[39;00m (\n\u001b[32m     19\u001b[39m     Any,\n\u001b[32m     20\u001b[39m     Generic,\n\u001b[32m   (...)\u001b[39m\u001b[32m     26\u001b[39m     get_origin,\n\u001b[32m     27\u001b[39m )\n\u001b[32m---> \u001b[39m\u001b[32m29\u001b[39m \u001b[38;5;28;01mfrom\u001b[39;00m\u001b[38;5;250m \u001b[39m\u001b[34;01mjiter\u001b[39;00m\u001b[38;5;250m \u001b[39m\u001b[38;5;28;01mimport\u001b[39;00m from_json\n\u001b[32m     30\u001b[39m \u001b[38;5;28;01mfrom\u001b[39;00m\u001b[38;5;250m \u001b[39m\u001b[34;01mpydantic\u001b[39;00m\u001b[38;5;250m \u001b[39m\u001b[38;5;28;01mimport\u001b[39;00m BaseModel, create_model\n\u001b[32m     31\u001b[39m \u001b[38;5;28;01mfrom\u001b[39;00m\u001b[38;5;250m \u001b[39m\u001b[34;01mpydantic\u001b[39;00m\u001b[34;01m.\u001b[39;00m\u001b[34;01mfields\u001b[39;00m\u001b[38;5;250m \u001b[39m\u001b[38;5;28;01mimport\u001b[39;00m FieldInfo\n",
      "\u001b[31mImportError\u001b[39m: cannot import name 'from_json' from 'jiter' (unknown location)"
     ]
    }
   ],
   "source": [
    "from llm_structure import DocumentChat, DocumentChatOllama"
   ]
  },
  {
   "cell_type": "code",
   "execution_count": null,
   "id": "069d05d2",
   "metadata": {},
   "outputs": [],
   "source": [
    "system_prompt=\"Hello, your mission will be to help me extract information from the following documents your context is only this document, you never say nothing is not in the context. You will respond briefly and always in JSON {} format. Siempre responde en idioma Español.\"\n"
   ]
  },
  {
   "cell_type": "code",
   "execution_count": null,
   "id": "ce1d17f3",
   "metadata": {},
   "outputs": [],
   "source": [
    "#chat=DocumentChat(\"document.pdf\",\"http://10.6.142.65:11434/v1\",\"ollama\",\"llama3.2:latest\",system_prompt)"
   ]
  },
  {
   "cell_type": "code",
   "execution_count": null,
   "id": "70ec71bc",
   "metadata": {},
   "outputs": [],
   "source": [
    "chat=DocumentChatOllama(\"document.pdf\",\"http://localhost:11434/v1\",\"ollama\",\"llama3.2:latest\",system_prompt)"
   ]
  },
  {
   "cell_type": "code",
   "execution_count": null,
   "id": "7ba46a6c",
   "metadata": {},
   "outputs": [],
   "source": [
    "query=chat.ask_document"
   ]
  },
  {
   "cell_type": "markdown",
   "id": "ab3ca9b0",
   "metadata": {},
   "source": [
    "## Titulo del documento"
   ]
  },
  {
   "cell_type": "code",
   "execution_count": null,
   "id": "360b5a56",
   "metadata": {},
   "outputs": [],
   "source": [
    "query(\"Give me the title of the document\")"
   ]
  },
  {
   "cell_type": "markdown",
   "id": "f0f88d31",
   "metadata": {},
   "source": [
    "## Autores"
   ]
  },
  {
   "cell_type": "code",
   "execution_count": null,
   "id": "b00da391",
   "metadata": {},
   "outputs": [],
   "source": [
    "query(\"Dime los nombres de los autores? separalos por , y espacio ejemplo: Francisco Vicente Suarez Bellon, Rogrigo Peralta\")"
   ]
  },
  {
   "cell_type": "markdown",
   "id": "9d8b9ad3",
   "metadata": {},
   "source": [
    "## Decir si es un articulo o una publicacion "
   ]
  },
  {
   "cell_type": "code",
   "execution_count": null,
   "id": "f93bcdba",
   "metadata": {},
   "outputs": [],
   "source": [
    "def query_grammar(query,prepositions:list[str]):\n",
    "    root_grammar=f\"\"\"\n",
    "    root ::= response\n",
    "    response ::= {' | '.join(f'\"{item}\"' for item in prepositions)}\n",
    "    \"\"\"\n",
    "    return chat.ask_with_gbnf_grammar(query,root_grammar)"
   ]
  },
  {
   "cell_type": "code",
   "execution_count": null,
   "id": "74c58f9a",
   "metadata": {},
   "outputs": [],
   "source": [
    "query_grammar(\"Es documento es un articulo cientifico o es un libro?\",[\"Libro\",\"Articulo\"])"
   ]
  },
  {
   "cell_type": "code",
   "execution_count": null,
   "id": "7b422dda",
   "metadata": {},
   "outputs": [],
   "source": [
    "query(\"En que año se publico el articulo? devuelve un numero solamente y que sea una año valido entre 1900-2025\")"
   ]
  },
  {
   "cell_type": "code",
   "execution_count": null,
   "id": "55519e05",
   "metadata": {},
   "outputs": [],
   "source": [
    "query(\"Cual es el nombre de la editorial de la revista que lo publico?\")"
   ]
  },
  {
   "cell_type": "code",
   "execution_count": null,
   "id": "8029795b",
   "metadata": {},
   "outputs": [],
   "source": [
    "query(\"Cual es el pais de publicacion?\")"
   ]
  },
  {
   "cell_type": "code",
   "execution_count": null,
   "id": "b44447b5",
   "metadata": {},
   "outputs": [],
   "source": [
    "query(\"Cual es la url de publicación?\")"
   ]
  },
  {
   "cell_type": "code",
   "execution_count": null,
   "id": "cee09fdd",
   "metadata": {},
   "outputs": [],
   "source": [
    "query(\"Cual es el orcid de cada autor?\")"
   ]
  },
  {
   "cell_type": "code",
   "execution_count": null,
   "id": "7925115e",
   "metadata": {},
   "outputs": [],
   "source": [
    "query(\"Cual es el doi del documento?\")"
   ]
  },
  {
   "cell_type": "code",
   "execution_count": null,
   "id": "ac3027c6",
   "metadata": {},
   "outputs": [],
   "source": [
    "query(\"Cual es el tipo de medio de divulgación?\")"
   ]
  },
  {
   "cell_type": "code",
   "execution_count": null,
   "id": "766c4b95",
   "metadata": {},
   "outputs": [],
   "source": [
    "query(\"Desde que area se reporta?\")"
   ]
  },
  {
   "cell_type": "code",
   "execution_count": null,
   "id": "891fb6ca",
   "metadata": {},
   "outputs": [],
   "source": [
    "query_boolean=chat.boolean_ask_document\n"
   ]
  },
  {
   "cell_type": "code",
   "execution_count": null,
   "id": "d1302ce8",
   "metadata": {},
   "outputs": [],
   "source": [
    "query_boolean(\"El documento tributa a algun proyecto de ciencia o investigación? no vale la revista tipo\")"
   ]
  },
  {
   "cell_type": "code",
   "execution_count": null,
   "id": "37a6e429",
   "metadata": {},
   "outputs": [],
   "source": [
    "query(\"Cual es el proyecto de ciencia e investigacion al que tributa? No vale la revista tipo \")"
   ]
  },
  {
   "cell_type": "code",
   "execution_count": null,
   "id": "ed079463",
   "metadata": {},
   "outputs": [],
   "source": [
    "query(\"Cual es el tipo de ciencia de este articulo? dentro del area de las matematicas?\")"
   ]
  },
  {
   "cell_type": "code",
   "execution_count": null,
   "id": "5a832db7",
   "metadata": {},
   "outputs": [],
   "source": [
    "query(\"Cuales son las palabras clave?\")"
   ]
  },
  {
   "cell_type": "code",
   "execution_count": null,
   "id": "d886dcff",
   "metadata": {},
   "outputs": [],
   "source": [
    "query(\"En base a las palabras clave (exercises, Geogebra, geometry) que tipo de disciplina es dentro de las matematicas?\")"
   ]
  },
  {
   "cell_type": "code",
   "execution_count": null,
   "id": "b215b644",
   "metadata": {},
   "outputs": [],
   "source": []
  }
 ],
 "metadata": {
  "kernelspec": {
   "display_name": ".venv",
   "language": "python",
   "name": "python3"
  },
  "language_info": {
   "codemirror_mode": {
    "name": "ipython",
    "version": 3
   },
   "file_extension": ".py",
   "mimetype": "text/x-python",
   "name": "python",
   "nbconvert_exporter": "python",
   "pygments_lexer": "ipython3",
   "version": "3.12.6"
  }
 },
 "nbformat": 4,
 "nbformat_minor": 5
}
