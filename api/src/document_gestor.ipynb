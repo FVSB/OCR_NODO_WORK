{
 "cells": [
  {
   "cell_type": "code",
   "execution_count": 4,
   "id": "9170d4f6",
   "metadata": {},
   "outputs": [],
   "source": [
    "from webdav3.client import Client\n",
    "\n",
    "options = {\n",
    "    'webdav_hostname': \"http://minube.uh.cu/remote.php/dav/files/francisco.suarez@rect.uh.cu\",\n",
    "    'webdav_login':    \"francisco.suarez@rect.uh.cu\",\n",
    "    'webdav_password': \"1PassdePaco.\"\n",
    "}\n",
    "\n",
    "client = Client(options)\n",
    "#client.verify = False  # omitir verificación de certificado SSL si es necesario\n"
   ]
  },
  {
   "cell_type": "code",
   "execution_count": 5,
   "id": "b47fe8aa",
   "metadata": {},
   "outputs": [],
   "source": [
    "client.sync(remote_directory=\"/shared\",local_directory=r\"E:\\GitHub\\OCR_NODO_WORK\\api\\src\\shared\")"
   ]
  },
  {
   "cell_type": "code",
   "execution_count": null,
   "id": "dcbfecda",
   "metadata": {},
   "outputs": [],
   "source": []
  }
 ],
 "metadata": {
  "kernelspec": {
   "display_name": ".venv",
   "language": "python",
   "name": "python3"
  },
  "language_info": {
   "codemirror_mode": {
    "name": "ipython",
    "version": 3
   },
   "file_extension": ".py",
   "mimetype": "text/x-python",
   "name": "python",
   "nbconvert_exporter": "python",
   "pygments_lexer": "ipython3",
   "version": "3.12.6"
  }
 },
 "nbformat": 4,
 "nbformat_minor": 5
}
