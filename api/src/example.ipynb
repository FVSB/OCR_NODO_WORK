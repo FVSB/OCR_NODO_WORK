{
 "cells": [
  {
   "cell_type": "code",
   "execution_count": 1,
   "id": "a51fa0a8",
   "metadata": {},
   "outputs": [],
   "source": [
    "from extract_info import ExtractInfo\n",
    "\n",
    "\n",
    "obj=ExtractInfo(\"Publicaciones\",\" https://minube.uh.cu\",\"francisco.suarez@rect.uh.cu\",\"1PassdePaco.\")\n",
    "\n"
   ]
  },
  {
   "cell_type": "code",
   "execution_count": 2,
   "id": "240f3e39",
   "metadata": {},
   "outputs": [
    {
     "name": "stdout",
     "output_type": "stream",
     "text": [
      "200\n",
      "{'id': 12383, 'tableId': 24, 'createdBy': None, 'createdAt': None, 'lastEditBy': None, 'lastEditAt': None, 'data': [{'columnId': 145, 'value': 'Multipopulation mathematical modeling of vaccination campaign of COVID-19 in Cuba'}, {'columnId': 150, 'value': 'Bravo-Castillero J, Vajravelu K, Guinovart D, '}, {'columnId': 151, 'value': 'Informa UK (Taylor & Francis)'}, {'columnId': 153, 'value': '1925-7082, 0228-6203'}, {'columnId': 154, 'value': 'London, United Kingdom'}, {'columnId': 155, 'value': '{\"title\":\"https:\\\\/\\\\/doi.org\\\\/10.1080\\\\/02286203.2025.2457762\\\\\",\\\\\"subline\\\\\":\\\\\"URL\\\\\",\\\\\"providerId\\\\\":url,\\\\\"value\\\\\":\\\\\"https:\\\\/\\\\/doi.org\\\\/10.1080\\\\/02286203.2025.2457762\\\\\"\",\"value\":\"https:\\\\/\\\\/doi.org\\\\/10.1080\\\\/02286203.2025.2457762\\\\\",\\\\\"subline\\\\\":\\\\\"URL\\\\\",\\\\\"providerId\\\\\":url,\\\\\"value\\\\\":\\\\\"https:\\\\/\\\\/doi.org\\\\/10.1080\\\\/02286203.2025.2457762\\\\\"\",\"providerId\":\"url\"}'}, {'columnId': 175, 'value': 'Guinovart-Díaz R, Morales-Lezca W, Abelló-Ugalde I, '}, {'columnId': 535, 'value': 'Modelación Biomatemática'}, {'columnId': 536, 'value': \"Modeling, resolution and Applications, ['PN223LH010–042'], \\nPNCB, Cuba. PREI-DGAPA-UNAM, ['(DGAP/DFAJ27 2OI2O23)'], \\nPAPIIT DGAPA UNAM, ['IN101822'], \\n\"}, {'columnId': 148, 'value': 2025}, {'columnId': 146, 'value': 0}, {'columnId': 147, 'value': 0}, {'columnId': 152, 'value': [0]}, {'columnId': 156, 'value': 1}, {'columnId': 157, 'value': 0}, {'columnId': 158, 'value': 1}, {'columnId': 159, 'value': 0}, {'columnId': 534, 'value': 0}, {'columnId': 160, 'value': [{'id': 'MATCOM', 'type': 1, 'displayName': 'MATCOM'}]}]}\n"
     ]
    }
   ],
   "source": [
    "obj.upload_data(\"https://doi.org/10.1080/02286203.2025.2457762\")"
   ]
  },
  {
   "cell_type": "code",
   "execution_count": null,
   "id": "2272191e",
   "metadata": {},
   "outputs": [],
   "source": []
  }
 ],
 "metadata": {
  "kernelspec": {
   "display_name": ".venv",
   "language": "python",
   "name": "python3"
  },
  "language_info": {
   "codemirror_mode": {
    "name": "ipython",
    "version": 3
   },
   "file_extension": ".py",
   "mimetype": "text/x-python",
   "name": "python",
   "nbconvert_exporter": "python",
   "pygments_lexer": "ipython3",
   "version": "3.12.6"
  }
 },
 "nbformat": 4,
 "nbformat_minor": 5
}
